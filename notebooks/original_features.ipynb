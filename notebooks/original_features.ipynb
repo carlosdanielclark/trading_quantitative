{
 "cells": [
  {
   "cell_type": "code",
   "execution_count": 1,
   "id": "8f3ee534",
   "metadata": {},
   "outputs": [],
   "source": [
    "import sys, os\n",
    "from pathlib import Path\n",
    "\n",
    "# 1) Asegúrate de apuntar a la raíz del proyecto\n",
    "sys.path.append(os.path.abspath(os.path.join(os.getcwd(), '..')))"
   ]
  },
  {
   "cell_type": "code",
   "execution_count": 2,
   "id": "ca29e985",
   "metadata": {},
   "outputs": [],
   "source": [
    "import pandas as pd\n",
    "from IPython.display import display\n",
    "# Cargar el archivo Parquet\n",
    "data_local = pd.read_parquet(r'..\\data\\raw\\BTCUSDT_1h_2024-01-01_2024-07-01.parquet')"
   ]
  },
  {
   "cell_type": "code",
   "execution_count": 3,
   "id": "cbfd49cb",
   "metadata": {},
   "outputs": [
    {
     "data": {
      "text/html": [
       "<style type=\"text/css\">\n",
       "#T_08517 th {\n",
       "  font-size: 110%;\n",
       "  text-align: center;\n",
       "}\n",
       "#T_08517_row0_col0, #T_08517_row0_col1, #T_08517_row0_col2, #T_08517_row0_col3, #T_08517_row0_col4, #T_08517_row1_col0, #T_08517_row1_col1, #T_08517_row1_col2, #T_08517_row1_col3, #T_08517_row1_col4, #T_08517_row2_col0, #T_08517_row2_col1, #T_08517_row2_col2, #T_08517_row2_col3, #T_08517_row2_col4, #T_08517_row3_col0, #T_08517_row3_col1, #T_08517_row3_col2, #T_08517_row3_col3, #T_08517_row3_col4, #T_08517_row4_col0, #T_08517_row4_col1, #T_08517_row4_col2, #T_08517_row4_col3, #T_08517_row4_col4 {\n",
       "  text-align: center;\n",
       "}\n",
       "</style>\n",
       "<table id=\"T_08517\">\n",
       "  <thead>\n",
       "    <tr>\n",
       "      <th class=\"blank level0\" >&nbsp;</th>\n",
       "      <th id=\"T_08517_level0_col0\" class=\"col_heading level0 col0\" >open</th>\n",
       "      <th id=\"T_08517_level0_col1\" class=\"col_heading level0 col1\" >high</th>\n",
       "      <th id=\"T_08517_level0_col2\" class=\"col_heading level0 col2\" >low</th>\n",
       "      <th id=\"T_08517_level0_col3\" class=\"col_heading level0 col3\" >close</th>\n",
       "      <th id=\"T_08517_level0_col4\" class=\"col_heading level0 col4\" >volume</th>\n",
       "    </tr>\n",
       "    <tr>\n",
       "      <th class=\"index_name level0\" >datetime</th>\n",
       "      <th class=\"blank col0\" >&nbsp;</th>\n",
       "      <th class=\"blank col1\" >&nbsp;</th>\n",
       "      <th class=\"blank col2\" >&nbsp;</th>\n",
       "      <th class=\"blank col3\" >&nbsp;</th>\n",
       "      <th class=\"blank col4\" >&nbsp;</th>\n",
       "    </tr>\n",
       "  </thead>\n",
       "  <tbody>\n",
       "    <tr>\n",
       "      <th id=\"T_08517_level0_row0\" class=\"row_heading level0 row0\" >2021-06-01 00:00:00+00:00</th>\n",
       "      <td id=\"T_08517_row0_col0\" class=\"data row0 col0\" >60000.00</td>\n",
       "      <td id=\"T_08517_row0_col1\" class=\"data row0 col1\" >60100.00</td>\n",
       "      <td id=\"T_08517_row0_col2\" class=\"data row0 col2\" >59900.00</td>\n",
       "      <td id=\"T_08517_row0_col3\" class=\"data row0 col3\" >60050.00</td>\n",
       "      <td id=\"T_08517_row0_col4\" class=\"data row0 col4\" >16.67</td>\n",
       "    </tr>\n",
       "    <tr>\n",
       "      <th id=\"T_08517_level0_row1\" class=\"row_heading level0 row1\" >2021-06-01 01:00:00+00:00</th>\n",
       "      <td id=\"T_08517_row1_col0\" class=\"data row1 col0\" >60001.00</td>\n",
       "      <td id=\"T_08517_row1_col1\" class=\"data row1 col1\" >60101.00</td>\n",
       "      <td id=\"T_08517_row1_col2\" class=\"data row1 col2\" >59901.00</td>\n",
       "      <td id=\"T_08517_row1_col3\" class=\"data row1 col3\" >60051.00</td>\n",
       "      <td id=\"T_08517_row1_col4\" class=\"data row1 col4\" >16.67</td>\n",
       "    </tr>\n",
       "    <tr>\n",
       "      <th id=\"T_08517_level0_row2\" class=\"row_heading level0 row2\" >2021-06-01 02:00:00+00:00</th>\n",
       "      <td id=\"T_08517_row2_col0\" class=\"data row2 col0\" >60002.00</td>\n",
       "      <td id=\"T_08517_row2_col1\" class=\"data row2 col1\" >60102.00</td>\n",
       "      <td id=\"T_08517_row2_col2\" class=\"data row2 col2\" >59902.00</td>\n",
       "      <td id=\"T_08517_row2_col3\" class=\"data row2 col3\" >60052.00</td>\n",
       "      <td id=\"T_08517_row2_col4\" class=\"data row2 col4\" >16.67</td>\n",
       "    </tr>\n",
       "    <tr>\n",
       "      <th id=\"T_08517_level0_row3\" class=\"row_heading level0 row3\" >2021-06-01 03:00:00+00:00</th>\n",
       "      <td id=\"T_08517_row3_col0\" class=\"data row3 col0\" >60003.00</td>\n",
       "      <td id=\"T_08517_row3_col1\" class=\"data row3 col1\" >60103.00</td>\n",
       "      <td id=\"T_08517_row3_col2\" class=\"data row3 col2\" >59903.00</td>\n",
       "      <td id=\"T_08517_row3_col3\" class=\"data row3 col3\" >60053.00</td>\n",
       "      <td id=\"T_08517_row3_col4\" class=\"data row3 col4\" >16.67</td>\n",
       "    </tr>\n",
       "    <tr>\n",
       "      <th id=\"T_08517_level0_row4\" class=\"row_heading level0 row4\" >2021-06-01 04:00:00+00:00</th>\n",
       "      <td id=\"T_08517_row4_col0\" class=\"data row4 col0\" >60004.00</td>\n",
       "      <td id=\"T_08517_row4_col1\" class=\"data row4 col1\" >60104.00</td>\n",
       "      <td id=\"T_08517_row4_col2\" class=\"data row4 col2\" >59904.00</td>\n",
       "      <td id=\"T_08517_row4_col3\" class=\"data row4 col3\" >60054.00</td>\n",
       "      <td id=\"T_08517_row4_col4\" class=\"data row4 col4\" >16.67</td>\n",
       "    </tr>\n",
       "  </tbody>\n",
       "</table>\n"
      ],
      "text/plain": [
       "<pandas.io.formats.style.Styler at 0x2c3be903620>"
      ]
     },
     "metadata": {},
     "output_type": "display_data"
    }
   ],
   "source": [
    "# Convertir la columna 'timestamp' a un formato datetime\n",
    "data_local['datetime'] = pd.to_datetime(data_local['timestamp'], unit='ms', utc=True)\n",
    "# Establecer 'datetime' como índice\n",
    "data_local.set_index('datetime', inplace=True)\n",
    "# Asegurarse de que las columnas sean numéricas (float)\n",
    "data_local[['open', 'high', 'low', 'close', 'volume']] = data_local[['open', 'high', 'low', 'close', 'volume']].apply(pd.to_numeric, errors='coerce')\n",
    "# Redondear las columnas 'open', 'high', 'low', 'close', 'volume' a dos decimales\n",
    "data_local[['open', 'high', 'low', 'close', 'volume']] = data_local[['open', 'high', 'low', 'close', 'volume']].round(2)\n",
    "# Mostrar los primeros registros de forma más clara\n",
    "display(\n",
    "    data_local[['open', 'high', 'low', 'close', 'volume']]\n",
    "    .head(10)\n",
    "    .style\n",
    "    .format(\"{:.2f}\")\n",
    "    .set_properties(**{\"text-align\": \"center\"})\n",
    "    .highlight_null(\"lightgray\")\n",
    "    .set_table_styles([\n",
    "        {\"selector\": \"th\", \"props\": [(\"font-size\", \"110%\"), (\"text-align\", \"center\")]}\n",
    "    ])\n",
    ")"
   ]
  }
 ],
 "metadata": {
  "kernelspec": {
   "display_name": "trading_env",
   "language": "python",
   "name": "trading_env"
  },
  "language_info": {
   "codemirror_mode": {
    "name": "ipython",
    "version": 3
   },
   "file_extension": ".py",
   "mimetype": "text/x-python",
   "name": "python",
   "nbconvert_exporter": "python",
   "pygments_lexer": "ipython3",
   "version": "3.13.2"
  }
 },
 "nbformat": 4,
 "nbformat_minor": 5
}
