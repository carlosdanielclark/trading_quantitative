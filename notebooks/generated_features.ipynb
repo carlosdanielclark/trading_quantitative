{
 "cells": [
  {
   "cell_type": "code",
   "execution_count": null,
   "id": "5a4448ed",
   "metadata": {},
   "outputs": [],
   "source": [
    "import sys, os\n",
    "from pathlib import Path\n",
    "\n",
    "# 1) Asegúrate de apuntar a la raíz del proyecto\n",
    "sys.path.append(os.path.abspath(os.path.join(os.getcwd(), '..')))"
   ]
  },
  {
   "cell_type": "code",
   "execution_count": null,
   "id": "3de31321",
   "metadata": {},
   "outputs": [],
   "source": [
    "import pandas as pd\n",
    "from IPython.display import display\n",
    "\n",
    "# 2) Carga tu DataFrame\n",
    "data_local = pd.read_parquet(r'..\\data\\processed\\features_BTCUSDT_1h_2024-01-01_2024-07-01.parquet')\n",
    "\n",
    "# 3) Construir un MultiIndex para las columnas:\n",
    "#    - indicador\n",
    "#    - métrica (p.ej. 'period14', 'bb_upper', etc.)\n",
    "#    - params (p.ej. 'period20_std_dev2' o '')\n",
    "tuplas = []\n",
    "for col in data_local.columns:\n",
    "    partes = col.split(\"_\")\n",
    "    indicador = partes[0]\n",
    "    metr      = partes[1] if len(partes) > 1 else \"\"\n",
    "    params    = \"_\".join(partes[2:]) if len(partes) > 2 else \"\"\n",
    "    tuplas.append((indicador, metr, params))\n",
    "\n",
    "data_local.columns = pd.MultiIndex.from_tuples(\n",
    "    tuplas, names=[\"Indicador\", \"Métrica\", \"Params\"]\n",
    ")\n",
    "\n",
    "# 4) Ajustes de pandas para display\n",
    "pd.set_option(\"display.max_columns\", None)\n",
    "pd.set_option(\"display.width\", 200)\n",
    "\n",
    "# 5) Mostrar el head() con un estilo más legible\n",
    "display(\n",
    "    data_local\n",
    "      .head(100)\n",
    "      .style\n",
    "      .format(\"{:.2f}\")      # dos decimales\n",
    "      .set_properties(**{\"text-align\": \"center\"})\n",
    "      .highlight_null(\"black\")  # resalta NaN (\"lightgray\", \"gray\", \"black\", \"blue\", \"green\", \"red\")\n",
    "      .set_table_styles([\n",
    "          {\"selector\": \"th\", \"props\": [(\"font-size\", \"110%\"), (\"text-align\", \"center\")]}\n",
    "      ])\n",
    ")"
   ]
  }
 ],
 "metadata": {
  "kernelspec": {
   "display_name": "trading_env",
   "language": "python",
   "name": "trading_env"
  },
  "language_info": {
   "codemirror_mode": {
    "name": "ipython",
    "version": 3
   },
   "file_extension": ".py",
   "mimetype": "text/x-python",
   "name": "python",
   "nbconvert_exporter": "python",
   "pygments_lexer": "ipython3",
   "version": "3.13.2"
  }
 },
 "nbformat": 4,
 "nbformat_minor": 5
}
