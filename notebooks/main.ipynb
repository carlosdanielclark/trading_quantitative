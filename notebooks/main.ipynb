{
 "cells": [
  {
   "cell_type": "code",
   "execution_count": 1,
   "id": "3b43940a",
   "metadata": {},
   "outputs": [
    {
     "name": "stdout",
     "output_type": "stream",
     "text": [
      "✅ Entorno configurado correctamente!\n"
     ]
    },
    {
     "data": {
      "text/plain": [
       "('2.2.3', '2.2.5')"
      ]
     },
     "execution_count": 1,
     "metadata": {},
     "output_type": "execute_result"
    }
   ],
   "source": [
    "# Celda de prueba en Jupyter\n",
    "import pandas as pd\n",
    "import numpy as np\n",
    "print(\"✅ Entorno configurado correctamente!\")\n",
    "pd.__version__, np.__version__"
   ]
  }
 ],
 "metadata": {
  "kernelspec": {
   "display_name": "trading_env",
   "language": "python",
   "name": "trading_env"
  },
  "language_info": {
   "name": "python",
   "version": "3.13.2"
  }
 },
 "nbformat": 4,
 "nbformat_minor": 5
}
